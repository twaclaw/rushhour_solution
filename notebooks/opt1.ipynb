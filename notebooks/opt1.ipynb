{
 "cells": [
  {
   "cell_type": "code",
   "execution_count": 1,
   "id": "2c81024e",
   "metadata": {},
   "outputs": [],
   "source": [
    "using JSON"
   ]
  },
  {
   "cell_type": "code",
   "execution_count": 2,
   "id": "0ec5a04b",
   "metadata": {},
   "outputs": [
    {
     "data": {
      "text/plain": [
       "Dict{Symbol, Int64} with 16 entries:\n",
       "  :R => 3\n",
       "  :F => 2\n",
       "  :A => 2\n",
       "  :D => 2\n",
       "  :B => 2\n",
       "  :Q => 3\n",
       "  :P => 3\n",
       "  :I => 2\n",
       "  :H => 2\n",
       "  :G => 2\n",
       "  :J => 2\n",
       "  :K => 2\n",
       "  :X => 2\n",
       "  :E => 2\n",
       "  :O => 3\n",
       "  :C => 2"
      ]
     },
     "metadata": {},
     "output_type": "display_data"
    }
   ],
   "source": [
    "struct CarInfo\n",
    "    id::Symbol\n",
    "    length::Int\n",
    "    is_vertical::Bool\n",
    "    initial_x::Int\n",
    "    initial_y::Int\n",
    "end\n",
    "\n",
    "const CAR_LENGTHS = Dict(\n",
    "    :X => 2,  # red\n",
    "    :A => 2,  # light green\n",
    "    :B => 2,  # orange\n",
    "    :C => 2,  # light blue\n",
    "    :D => 2,  # pink\n",
    "    :E => 2,  # purple\n",
    "    :F => 2,  # dark green\n",
    "    :G => 2,  # gray\n",
    "    :H => 2,  # beige\n",
    "    :I => 2, # light yellow\n",
    "    :J => 2, # brown\n",
    "    :K => 2, # olive\n",
    "    :O => 3, # dark yellow\n",
    "    :P => 3, # light purple\n",
    "    :Q => 3, # blue\n",
    "    :R => 3, # green\n",
    ")"
   ]
  },
  {
   "cell_type": "code",
   "execution_count": 15,
   "id": "0f4aef0e",
   "metadata": {},
   "outputs": [
    {
     "data": {
      "text/plain": [
       "load_pieces_from_json (generic function with 1 method)"
      ]
     },
     "metadata": {},
     "output_type": "display_data"
    }
   ],
   "source": [
    "function load_pieces_from_json(filepath::String)\n",
    "    json_string = read(filepath, String)\n",
    "    initial_state_strings = JSON.parse(json_string)[\"initial_state\"]\n",
    "    cars_data = CarInfo[]\n",
    "\n",
    "    for car_str in initial_state_strings\n",
    "        if length(car_str) != 4\n",
    "            @warn \"Skipping invalid car string: $car_str\"\n",
    "            continue\n",
    "        end\n",
    "\n",
    "        symbol_char = car_str[1]\n",
    "        orientation_char = car_str[2]\n",
    "        x_char = car_str[3]\n",
    "        y_char = car_str[4]\n",
    "\n",
    "        id = Symbol(symbol_char)\n",
    "        is_vertical = (orientation_char == 'V')\n",
    "\n",
    "        # why does Julia have 1-based indexing 🤷‍♂️\n",
    "        initial_x = parse(Int, x_char) + 1\n",
    "        initial_y = parse(Int, y_char) + 1\n",
    "\n",
    "    #     # Look up the length from the dictionary\n",
    "        if !haskey(CAR_LENGTHS, id)\n",
    "            @error \"Length for piece '$id' not found in PIECE_LENGTHS dictionary.\"\n",
    "            continue\n",
    "        end\n",
    "        len = CAR_LENGTHS[id]\n",
    "\n",
    "        push!(cars_data, CarInfo(id, len, is_vertical, initial_x, initial_y))\n",
    "    end\n",
    "\n",
    "    return cars_data\n",
    "end"
   ]
  },
  {
   "cell_type": "code",
   "execution_count": 19,
   "id": "a5b13862",
   "metadata": {},
   "outputs": [
    {
     "data": {
      "text/plain": [
       "14-element Vector{CarInfo}:\n",
       " CarInfo(:A, 2, true, 1, 1)\n",
       " CarInfo(:B, 2, true, 1, 2)\n",
       " CarInfo(:C, 2, false, 1, 3)\n",
       " CarInfo(:D, 2, true, 1, 5)\n",
       " CarInfo(:E, 2, true, 1, 6)\n",
       " CarInfo(:F, 2, true, 3, 4)\n",
       " CarInfo(:G, 2, true, 3, 6)\n",
       " CarInfo(:X, 2, false, 3, 2)\n",
       " CarInfo(:H, 2, false, 4, 2)\n",
       " CarInfo(:O, 3, true, 3, 1)\n",
       " CarInfo(:J, 2, false, 6, 1)\n",
       " CarInfo(:I, 2, true, 5, 3)\n",
       " CarInfo(:P, 3, false, 5, 4)\n",
       " CarInfo(:Q, 3, false, 6, 4)"
      ]
     },
     "metadata": {},
     "output_type": "display_data"
    }
   ],
   "source": [
    "cars_data = load_pieces_from_json(\"../examples/expert31.json\")"
   ]
  },
  {
   "cell_type": "markdown",
   "id": "3e021d2c",
   "metadata": {},
   "source": [
    "### Optimization parameters\n"
   ]
  },
  {
   "cell_type": "code",
   "execution_count": 20,
   "id": "45c7e93e",
   "metadata": {},
   "outputs": [
    {
     "data": {
      "text/plain": [
       "50"
      ]
     },
     "metadata": {},
     "output_type": "display_data"
    }
   ],
   "source": [
    "P = [p.id for p in cars_data]\n",
    "BOARD_SIZE = 6\n",
    "T = 50 # Max time steps\n"
   ]
  },
  {
   "cell_type": "code",
   "execution_count": null,
   "id": "9409714b",
   "metadata": {},
   "outputs": [],
   "source": []
  }
 ],
 "metadata": {
  "kernelspec": {
   "display_name": "Julia 1.11.6",
   "language": "julia",
   "name": "julia-1.11"
  },
  "language_info": {
   "file_extension": ".jl",
   "mimetype": "application/julia",
   "name": "julia",
   "version": "1.11.6"
  }
 },
 "nbformat": 4,
 "nbformat_minor": 5
}
